{
 "cells": [
  {
   "cell_type": "markdown",
   "metadata": {},
   "source": [
    "# 條件語句if"
   ]
  },
  {
   "cell_type": "markdown",
   "metadata": {},
   "source": [
    "#### 判斷奇偶性"
   ]
  },
  {
   "cell_type": "code",
   "execution_count": 2,
   "metadata": {},
   "outputs": [
    {
     "name": "stdout",
     "output_type": "stream",
     "text": [
      "奇數\n"
     ]
    }
   ],
   "source": [
    "x = 1\n",
    "\n",
    "if x%2==0:\n",
    "    print(\"偶數\")\n",
    "elif x%2==1:\n",
    "    print(\"奇數\")\n",
    "else:\n",
    "    print(\"非整數\")"
   ]
  },
  {
   "cell_type": "markdown",
   "metadata": {},
   "source": [
    "#### 判斷成績等第"
   ]
  },
  {
   "cell_type": "code",
   "execution_count": 1,
   "metadata": {},
   "outputs": [
    {
     "name": "stdout",
     "output_type": "stream",
     "text": [
      "請輸入考試分數 (1-100)：90\n"
     ]
    }
   ],
   "source": [
    "score = int(input('請輸入考試分數 (1-100)：'))\n",
    "if score > 100 or score < 0:\n",
    "    print('請勿亂輸入！')"
   ]
  },
  {
   "cell_type": "code",
   "execution_count": 2,
   "metadata": {},
   "outputs": [
    {
     "name": "stdout",
     "output_type": "stream",
     "text": [
      "及格\n"
     ]
    }
   ],
   "source": [
    "if score > 60:\n",
    "    print(\"及格\")\n",
    "else:\n",
    "    print('不及格')"
   ]
  },
  {
   "cell_type": "code",
   "execution_count": 3,
   "metadata": {},
   "outputs": [
    {
     "name": "stdout",
     "output_type": "stream",
     "text": [
      "成績：A+\n"
     ]
    }
   ],
   "source": [
    "if score >= 90 and score <= 100:\n",
    "    print('成績：A+')\n",
    "elif score >= 80 and score < 90:\n",
    "    print('成績：B+')\n",
    "elif score >= 70 and score < 80:\n",
    "    print('成績：B')\n",
    "else:\n",
    "    print('成績：C')"
   ]
  },
  {
   "cell_type": "markdown",
   "metadata": {},
   "source": [
    "#### 一行判斷"
   ]
  },
  {
   "cell_type": "code",
   "execution_count": 4,
   "metadata": {},
   "outputs": [
    {
     "data": {
      "text/plain": [
       "'Yes'"
      ]
     },
     "execution_count": 4,
     "metadata": {},
     "output_type": "execute_result"
    }
   ],
   "source": [
    "fruit = 'Apple'\n",
    "ans = 'Yes' if fruit == 'Apple' else 'No'\n",
    "ans"
   ]
  },
  {
   "cell_type": "code",
   "execution_count": 5,
   "metadata": {},
   "outputs": [
    {
     "name": "stdout",
     "output_type": "stream",
     "text": [
      "0\n"
     ]
    }
   ],
   "source": [
    "i = 100\n",
    "if i>100:\n",
    "    a=2\n",
    "elif i<100:\n",
    "    a=1\n",
    "else:\n",
    "    a=0\n",
    "print(a)"
   ]
  },
  {
   "cell_type": "code",
   "execution_count": null,
   "metadata": {},
   "outputs": [],
   "source": [
    "# if 條件1:\n",
    "#     結果甲\n",
    "# elif 條件2:\n",
    "#     結果乙\n",
    "# else:\n",
    "#     結果丙\n",
    "\n",
    "\n",
    "# 結果甲 if 條件甲 (else 結果乙 if 條件乙 (else 結果丙))"
   ]
  },
  {
   "cell_type": "code",
   "execution_count": 6,
   "metadata": {},
   "outputs": [
    {
     "name": "stdout",
     "output_type": "stream",
     "text": [
      "0\n",
      "2\n",
      "1\n"
     ]
    }
   ],
   "source": [
    "i=100\n",
    "a = 1 if i<100 else 2 if i>100 else 0\n",
    "print(a)\n",
    "# 输出：0\n",
    " \n",
    "i=101\n",
    "a = 1 if i<100 else 2 if i>100 else 0\n",
    "print(a)\n",
    "# 输出：2\n",
    " \n",
    "i=99\n",
    "a = 1 if i<100 else 2 if i>100 else 0\n",
    "print(a)\n",
    "# 输出：1"
   ]
  },
  {
   "cell_type": "code",
   "execution_count": 7,
   "metadata": {},
   "outputs": [
    {
     "name": "stdout",
     "output_type": "stream",
     "text": [
      "0\n",
      "2\n",
      "1\n"
     ]
    }
   ],
   "source": [
    "i=100\n",
    "print(1 if i<100 else 2 if i>100 else 0)\n",
    "i=101\n",
    "print(1 if i<100 else 2 if i>100 else 0)\n",
    "i=99\n",
    "print(1 if i<100 else 2 if i>100 else 0)"
   ]
  },
  {
   "cell_type": "code",
   "execution_count": 8,
   "metadata": {},
   "outputs": [],
   "source": [
    "# if 條件1:\n",
    "#     結果甲\n",
    "# elif 條件2:\n",
    "#     結果乙\n",
    "# else:\n",
    "#     結果丙\n",
    "\n",
    "\n",
    "# 結果甲 if 條件甲 else 結果乙 if 條件乙 else 結果丙"
   ]
  },
  {
   "cell_type": "code",
   "execution_count": 9,
   "metadata": {},
   "outputs": [
    {
     "name": "stdout",
     "output_type": "stream",
     "text": [
      "車位\n",
      "高層\n",
      "別墅\n"
     ]
    }
   ],
   "source": [
    "a='大鼎世紀濱江 | 車位 | 39.09平米 | 東 | 無電梯'\n",
    "b='恆大城二期 | 2室2廳 | 71.49平米 | 東南 | 精裝 | 有電梯'\n",
    "c='協信彩雲湖1號 | 疊拼別墅 | 5室2廳 | 280.49平米 | 南 | 簡裝 | 無電梯'\n",
    "\n",
    "#實現代碼\n",
    "condition=\"別墅\" if \"別墅\" in a else \"車位\" if \"車位\" in a else \"高層\"\n",
    "\n",
    "#結果\n",
    "ans = \"別墅\" if \"別墅\" in a else \"車位\" if \"車位\" in a else \"高層\"\n",
    "print(ans)\n",
    "\n",
    "ans = \"別墅\" if \"別墅\" in b else \"車位\" if \"車位\" in b else \"高層\"\n",
    "print(ans)\n",
    "\n",
    "ans = \"別墅\" if \"別墅\" in c else \"車位\" if \"車位\" in c else \"高層\"\n",
    "print(ans)"
   ]
  },
  {
   "cell_type": "code",
   "execution_count": 10,
   "metadata": {},
   "outputs": [
    {
     "data": {
      "text/plain": [
       "'車位'"
      ]
     },
     "execution_count": 10,
     "metadata": {},
     "output_type": "execute_result"
    }
   ],
   "source": [
    "x = a\n",
    "\"別墅\" if \"別墅\" in x else \"車位\" if \"車位\" in x else \"高層\""
   ]
  },
  {
   "cell_type": "code",
   "execution_count": 31,
   "metadata": {},
   "outputs": [
    {
     "data": {
      "text/plain": [
       "0"
      ]
     },
     "execution_count": 31,
     "metadata": {},
     "output_type": "execute_result"
    }
   ],
   "source": [
    "a = 1\n",
    "x = 3 if a==2 else 0\n",
    "x"
   ]
  },
  {
   "cell_type": "code",
   "execution_count": 32,
   "metadata": {},
   "outputs": [
    {
     "name": "stdout",
     "output_type": "stream",
     "text": [
      "奇數\n",
      "偶數\n"
     ]
    }
   ],
   "source": [
    "def test(a):\n",
    "    return \"偶數\" if a%2==0 else \"奇數\"\n",
    "\n",
    "print(test(1))\n",
    "print(test(4))"
   ]
  },
  {
   "cell_type": "markdown",
   "metadata": {},
   "source": [
    "# random模組"
   ]
  },
  {
   "cell_type": "code",
   "execution_count": 11,
   "metadata": {},
   "outputs": [
    {
     "data": {
      "text/plain": [
       "[4, 2, 3, 5, 1]"
      ]
     },
     "execution_count": 11,
     "metadata": {},
     "output_type": "execute_result"
    }
   ],
   "source": [
    "import random\n",
    "\n",
    "\n",
    "random.seed(42)\n",
    "seq = [1, 2, 3, 4, 5]\n",
    "random.shuffle(seq)\n",
    "seq"
   ]
  },
  {
   "cell_type": "code",
   "execution_count": 12,
   "metadata": {},
   "outputs": [],
   "source": [
    "import random\n",
    "\n",
    "random.seed(42)\n",
    "seq = [1, 2, 3, 4, 5]"
   ]
  },
  {
   "cell_type": "code",
   "execution_count": 13,
   "metadata": {},
   "outputs": [
    {
     "data": {
      "text/plain": [
       "1"
      ]
     },
     "execution_count": 13,
     "metadata": {},
     "output_type": "execute_result"
    }
   ],
   "source": [
    "random.choice(seq)"
   ]
  },
  {
   "cell_type": "code",
   "execution_count": 14,
   "metadata": {},
   "outputs": [
    {
     "data": {
      "text/plain": [
       "[1, 2, 2]"
      ]
     },
     "execution_count": 14,
     "metadata": {},
     "output_type": "execute_result"
    }
   ],
   "source": [
    "random.choices(seq, k=3)  # 重置抽樣，有機會抽到相同的元素"
   ]
  },
  {
   "cell_type": "code",
   "execution_count": 15,
   "metadata": {},
   "outputs": [
    {
     "data": {
      "text/plain": [
       "[4, 4, 5]"
      ]
     },
     "execution_count": 15,
     "metadata": {},
     "output_type": "execute_result"
    }
   ],
   "source": [
    "random.choices(seq, k=3)"
   ]
  },
  {
   "cell_type": "code",
   "execution_count": 16,
   "metadata": {},
   "outputs": [
    {
     "data": {
      "text/plain": [
       "[1, 4, 5]"
      ]
     },
     "execution_count": 16,
     "metadata": {},
     "output_type": "execute_result"
    }
   ],
   "source": [
    "random.sample(seq, k=3)   # 非重置抽樣，不會抽到相同的元素"
   ]
  },
  {
   "cell_type": "code",
   "execution_count": 17,
   "metadata": {},
   "outputs": [
    {
     "data": {
      "text/plain": [
       "[1, 5, 4]"
      ]
     },
     "execution_count": 17,
     "metadata": {},
     "output_type": "execute_result"
    }
   ],
   "source": [
    "random.sample(seq, k=3)"
   ]
  },
  {
   "cell_type": "code",
   "execution_count": 18,
   "metadata": {},
   "outputs": [],
   "source": [
    "random.shuffle(seq)       # 亂數重整 seq 順序"
   ]
  },
  {
   "cell_type": "code",
   "execution_count": 19,
   "metadata": {},
   "outputs": [],
   "source": [
    "numbers = list(range(1,51))"
   ]
  },
  {
   "cell_type": "code",
   "execution_count": 20,
   "metadata": {},
   "outputs": [
    {
     "data": {
      "text/plain": [
       "[2, 1, 5]"
      ]
     },
     "execution_count": 20,
     "metadata": {},
     "output_type": "execute_result"
    }
   ],
   "source": [
    "random.sample(seq, k=3)"
   ]
  },
  {
   "cell_type": "code",
   "execution_count": 21,
   "metadata": {},
   "outputs": [
    {
     "data": {
      "text/plain": [
       "['1.琵琶行作者?\\n(a)白居易\\n(b)李白\\n(c)杜甫\\n',\n",
       " '3. 白居易的詩能風行於當時的原因是什麼?\\n(a)詞藻華麗\\n(b)舉證詳實\\n(c)平易近人\\n',\n",
       " '2.白居易〈琵琶行并序〉：「舉酒欲飲無管絃」，句中「管絃」意指「音樂」，乃以「樂器的材料」借代之，下列何者沒有運用相同的修辭?                  \\n(a)曲罷曾教善才伏 \\n(b)夢啼妝淚紅闌干\\n(c)秋月春風等閒度\\n']"
      ]
     },
     "execution_count": 21,
     "metadata": {},
     "output_type": "execute_result"
    }
   ],
   "source": [
    "test_questions = {\"1.琵琶行作者?\\n(a)白居易\\n(b)李白\\n(c)杜甫\\n\":\"a\", \n",
    "                  \"2.白居易〈琵琶行并序〉：「舉酒欲飲無管絃」，句中「管絃」意指「音樂」，乃以「樂器的材料」借代之，下列何者沒有運用相同的修辭?\\\n",
    "                  \\n(a)曲罷曾教善才伏 \\n(b)夢啼妝淚紅闌干\\n(c)秋月春風等閒度\\n\":\"b\", \n",
    "                  \"3. 白居易的詩能風行於當時的原因是什麼?\\n(a)詞藻華麗\\n(b)舉證詳實\\n(c)平易近人\\n\":\"c\"}\n",
    "\n",
    "shuffle = True  # 是否洗牌題目\n",
    "tq_k = list(test_questions.keys())\n",
    "if shuffle:random.shuffle(tq_k)\n",
    "tq_k"
   ]
  },
  {
   "cell_type": "markdown",
   "metadata": {},
   "source": [
    "# for迴圈"
   ]
  },
  {
   "cell_type": "code",
   "execution_count": 17,
   "metadata": {},
   "outputs": [
    {
     "name": "stdout",
     "output_type": "stream",
     "text": [
      "0\n",
      "1\n",
      "2\n",
      "3\n",
      "4\n"
     ]
    }
   ],
   "source": [
    "for i in range(5):\n",
    "    print(i)"
   ]
  },
  {
   "cell_type": "code",
   "execution_count": 18,
   "metadata": {},
   "outputs": [
    {
     "name": "stdout",
     "output_type": "stream",
     "text": [
      "0\n",
      "1\n",
      "2\n",
      "3\n",
      "4\n",
      "over\n"
     ]
    }
   ],
   "source": [
    "for i in range(5):\n",
    "    print(i)\n",
    "else:\n",
    "    print(\"over\")"
   ]
  },
  {
   "cell_type": "code",
   "execution_count": 69,
   "metadata": {},
   "outputs": [
    {
     "name": "stdout",
     "output_type": "stream",
     "text": [
      "0 4\n",
      "1 5\n",
      "2 6\n",
      "3 7\n",
      "4 8\n",
      "5 9\n",
      "6 10\n",
      "7 11\n",
      "8 12\n",
      "9 13\n",
      "10 14\n"
     ]
    }
   ],
   "source": [
    "for i, j in enumerate(range(4, 15)):\n",
    "    print(i, j)"
   ]
  },
  {
   "cell_type": "code",
   "execution_count": 73,
   "metadata": {},
   "outputs": [
    {
     "name": "stdout",
     "output_type": "stream",
     "text": [
      "1 4\n",
      "2 5\n",
      "3 6\n",
      "4 7\n",
      "5 8\n",
      "6 9\n",
      "7 10\n",
      "8 11\n",
      "9 12\n",
      "10 13\n",
      "11 14\n"
     ]
    }
   ],
   "source": [
    "for i, j in enumerate(range(4, 15), 1):\n",
    "    print(i, j)"
   ]
  },
  {
   "cell_type": "markdown",
   "metadata": {},
   "source": [
    "### break"
   ]
  },
  {
   "cell_type": "code",
   "execution_count": 19,
   "metadata": {},
   "outputs": [
    {
     "name": "stdout",
     "output_type": "stream",
     "text": [
      "0\n",
      "1\n",
      "2\n"
     ]
    }
   ],
   "source": [
    "for i in range(5):\n",
    "    if i < 3:\n",
    "        print(i)\n",
    "    else:\n",
    "        break\n",
    "else:\n",
    "    print(\"over\")"
   ]
  },
  {
   "cell_type": "markdown",
   "metadata": {},
   "source": [
    "### continue"
   ]
  },
  {
   "cell_type": "code",
   "execution_count": 20,
   "metadata": {},
   "outputs": [
    {
     "name": "stdout",
     "output_type": "stream",
     "text": [
      "3\n",
      "4\n",
      "over\n"
     ]
    }
   ],
   "source": [
    "for i in range(5):\n",
    "    if i < 3:\n",
    "        continue\n",
    "    print(i)\n",
    "else:\n",
    "    print(\"over\")"
   ]
  },
  {
   "cell_type": "markdown",
   "metadata": {},
   "source": [
    "### pass"
   ]
  },
  {
   "cell_type": "code",
   "execution_count": 21,
   "metadata": {},
   "outputs": [
    {
     "name": "stdout",
     "output_type": "stream",
     "text": [
      "0\n",
      "1\n",
      "2\n",
      "3\n",
      "4\n",
      "over\n"
     ]
    }
   ],
   "source": [
    "for i in range(5):\n",
    "    if i < 3:\n",
    "        pass\n",
    "    print(i)\n",
    "else:\n",
    "    print(\"over\")"
   ]
  },
  {
   "cell_type": "code",
   "execution_count": 22,
   "metadata": {},
   "outputs": [
    {
     "name": "stdout",
     "output_type": "stream",
     "text": [
      "0 <3\n",
      "0\n",
      "1 <3\n",
      "1\n",
      "2 <3\n",
      "2\n",
      "3\n",
      "4\n",
      "over\n"
     ]
    }
   ],
   "source": [
    "for i in range(5):\n",
    "    if i < 3:\n",
    "        print(i, \"<3\")\n",
    "    print(i)\n",
    "else:\n",
    "    print(\"over\")"
   ]
  },
  {
   "cell_type": "code",
   "execution_count": 23,
   "metadata": {},
   "outputs": [
    {
     "data": {
      "text/plain": [
       "[0, 1, 2, 3, 4]"
      ]
     },
     "execution_count": 23,
     "metadata": {},
     "output_type": "execute_result"
    }
   ],
   "source": [
    "x =[i for i in range(5)]\n",
    "x"
   ]
  },
  {
   "cell_type": "code",
   "execution_count": 46,
   "metadata": {},
   "outputs": [
    {
     "data": {
      "text/plain": [
       "[4, 5, 6, 7, 8, 9, 10, 11, 12, 13, 14]"
      ]
     },
     "execution_count": 46,
     "metadata": {},
     "output_type": "execute_result"
    }
   ],
   "source": [
    "list(i for i in range(4, 15))"
   ]
  },
  {
   "cell_type": "code",
   "execution_count": 47,
   "metadata": {},
   "outputs": [
    {
     "data": {
      "text/plain": [
       "(4, 5, 6, 7, 8, 9, 10, 11, 12, 13, 14)"
      ]
     },
     "execution_count": 47,
     "metadata": {},
     "output_type": "execute_result"
    }
   ],
   "source": [
    "tuple(i for i in range(4, 15))"
   ]
  },
  {
   "cell_type": "code",
   "execution_count": 45,
   "metadata": {},
   "outputs": [
    {
     "data": {
      "text/plain": [
       "{4, 5, 6, 7, 8, 9, 10, 11, 12, 13, 14}"
      ]
     },
     "execution_count": 45,
     "metadata": {},
     "output_type": "execute_result"
    }
   ],
   "source": [
    "set(i for i in range(4, 15))"
   ]
  },
  {
   "cell_type": "code",
   "execution_count": 24,
   "metadata": {},
   "outputs": [
    {
     "data": {
      "text/plain": [
       "[4, 5, 6, 7, 8, 9, 10, 11, 12, 13, 14]"
      ]
     },
     "execution_count": 24,
     "metadata": {},
     "output_type": "execute_result"
    }
   ],
   "source": [
    "x = [i for i in range(4, 15)]\n",
    "x"
   ]
  },
  {
   "cell_type": "code",
   "execution_count": 29,
   "metadata": {},
   "outputs": [
    {
     "data": {
      "text/plain": [
       "[4, 6, 8, 10, 12, 14]"
      ]
     },
     "execution_count": 29,
     "metadata": {},
     "output_type": "execute_result"
    }
   ],
   "source": [
    "x =[i for i in range(4, 15) if i%2==0]\n",
    "x"
   ]
  },
  {
   "cell_type": "code",
   "execution_count": 34,
   "metadata": {},
   "outputs": [
    {
     "data": {
      "text/plain": [
       "['偶數', '奇數', '偶數', '奇數', '偶數', '奇數', '偶數', '奇數', '偶數', '奇數', '偶數']"
      ]
     },
     "execution_count": 34,
     "metadata": {},
     "output_type": "execute_result"
    }
   ],
   "source": [
    "x =[\"偶數\" if i%2==0 else \"奇數\" for i in range(4, 15)]\n",
    "x                 "
   ]
  },
  {
   "cell_type": "code",
   "execution_count": null,
   "metadata": {},
   "outputs": [],
   "source": []
  }
 ],
 "metadata": {
  "kernelspec": {
   "display_name": "Python 3",
   "language": "python",
   "name": "python3"
  },
  "language_info": {
   "codemirror_mode": {
    "name": "ipython",
    "version": 3
   },
   "file_extension": ".py",
   "mimetype": "text/x-python",
   "name": "python",
   "nbconvert_exporter": "python",
   "pygments_lexer": "ipython3",
   "version": "3.6.7"
  }
 },
 "nbformat": 4,
 "nbformat_minor": 2
}
