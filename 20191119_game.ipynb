{
 "cells": [
  {
   "cell_type": "code",
   "execution_count": 39,
   "metadata": {},
   "outputs": [
    {
     "data": {
      "text/plain": [
       "['2.白居易〈琵琶行并序〉：「舉酒欲飲無管絃」，句中「管絃」意指「音樂」，乃以「樂器的材料」借代之，下列何者沒有運用相同的修辭?                  \\n(a)曲罷曾教善才伏 \\n(b)夢啼妝淚紅闌干\\n(c)秋月春風等閒度\\n',\n",
       " '3. 白居易的詩能風行於當時的原因是什麼?\\n(a)詞藻華麗\\n(b)舉證詳實\\n(c)平易近人\\n',\n",
       " '1.琵琶行作者?\\n(a)白居易\\n(b)李白\\n(c)杜甫\\n']"
      ]
     },
     "execution_count": 39,
     "metadata": {},
     "output_type": "execute_result"
    }
   ],
   "source": [
    "test_questions = {\"1.琵琶行作者?\\n(a)白居易\\n(b)李白\\n(c)杜甫\\n\":\"a\", \n",
    "                  \"2.白居易〈琵琶行并序〉：「舉酒欲飲無管絃」，句中「管絃」意指「音樂」，乃以「樂器的材料」借代之，下列何者沒有運用相同的修辭?\\\n",
    "                  \\n(a)曲罷曾教善才伏 \\n(b)夢啼妝淚紅闌干\\n(c)秋月春風等閒度\\n\":\"b\", \n",
    "                  \"3. 白居易的詩能風行於當時的原因是什麼?\\n(a)詞藻華麗\\n(b)舉證詳實\\n(c)平易近人\\n\":\"c\"}\n",
    "\n",
    "shuffle = True  # 是否洗牌題目\n",
    "tq_k = list(test_questions.keys())\n",
    "if shuffle:random.shuffle(tq_k)\n",
    "tq_k"
   ]
  },
  {
   "cell_type": "code",
   "execution_count": 1,
   "metadata": {},
   "outputs": [
    {
     "name": "stdout",
     "output_type": "stream",
     "text": [
      "開始計時,時間限制10秒\n",
      " 2.白居易〈琵琶行并序〉：「舉酒欲飲無管絃」，句中「管絃」意指「音樂」，乃以「樂器的材料」借代之，下列何者沒有運用相同的修辭?                  \n",
      "(a)曲罷曾教善才伏 \n",
      "(b)夢啼妝淚紅闌干\n",
      "(c)秋月春風等閒度\n",
      "\n",
      "\n",
      "時間還剩下 10 秒\n",
      "時間還剩下  9 秒\n",
      "請輸入正確答案b\n",
      "恭喜答對!\n",
      "\n",
      "\n",
      " 1.琵琶行作者?\n",
      "(a)白居易\n",
      "(b)李白\n",
      "(c)杜甫\n",
      "\n",
      "時間還剩下  8 秒\n",
      "時間還剩下  7 秒\n",
      "請輸入正確答案a\n",
      "恭喜答對!\n",
      "\n",
      "\n",
      " 3. 白居易的詩能風行於當時的原因是什麼?\n",
      "(a)詞藻華麗\n",
      "(b)舉證詳實\n",
      "(c)平易近人\n",
      "\n",
      "時間還剩下  6 秒\n",
      "請輸入正確答案a\n",
      "時間還剩下  5 秒\n",
      "答錯!\n",
      "\n",
      "分數 2\n"
     ]
    }
   ],
   "source": [
    "import time\n",
    "import random\n",
    "import threading\n",
    "\n",
    "\n",
    "random.seed(42)\n",
    "\n",
    "test_questions = {\"1.琵琶行作者?\\n(a)白居易\\n(b)李白\\n(c)杜甫\\n\":\"a\", \n",
    "                  \"2.白居易〈琵琶行并序〉：「舉酒欲飲無管絃」，句中「管絃」意指「音樂」，乃以「樂器的材料」借代之，下列何者沒有運用相同的修辭?\\\n",
    "                  \\n(a)曲罷曾教善才伏 \\n(b)夢啼妝淚紅闌干\\n(c)秋月春風等閒度\\n\":\"b\", \n",
    "                  \"3. 白居易的詩能風行於當時的原因是什麼?\\n(a)詞藻華麗\\n(b)舉證詳實\\n(c)平易近人\\n\":\"c\"}\n",
    "\n",
    "shuffle = True  # 是否洗牌題目\n",
    "tq_k = list(test_questions.keys())\n",
    "if shuffle:random.shuffle(tq_k)\n",
    "\n",
    "score = 0\n",
    "limit = 10\n",
    "time_left = 10\n",
    "over = False\n",
    "# 子執行緒的工作函數\n",
    "def job():\n",
    "    global over, time_left\n",
    "    print(\"開始計時,時間限制10秒\")\n",
    "    for i in range(limit):\n",
    "        time.sleep(1)\n",
    "        if over == True:\n",
    "            break\n",
    "        time_left = limit-i\n",
    "        print(\"時間還剩下\", '%2.0f'%time_left, \"秒\")\n",
    "# 建立一個子執行緒\n",
    "t = threading.Thread(target = job)\n",
    "\n",
    "# 執行該子執行緒\n",
    "t.start()\n",
    "\n",
    "# 主執行緒繼續執行自己的工作\n",
    "for i in tq_k:\n",
    "    print(\"\\n\", i)\n",
    "    answer = str.lower(input(\"請輸入正確答案\"))\n",
    "    if time_left-1==0:\n",
    "        print(\"時間到!\")\n",
    "        break\n",
    "    if answer == test_questions[i]:\n",
    "        print(\"恭喜答對!\\n\")\n",
    "        score += 1\n",
    "    else:\n",
    "        print(\"答錯!\\n\")\n",
    "over = True\n",
    "# 等待 t 這個子執行緒結束\n",
    "t.join()      \n",
    "print(\"分數\", score)"
   ]
  },
  {
   "cell_type": "code",
   "execution_count": 3,
   "metadata": {},
   "outputs": [
    {
     "name": "stdout",
     "output_type": "stream",
     "text": [
      "Child thread: 0Main thread:\n",
      " 0\n",
      "Child thread: 1\n",
      "Child thread: 2\n",
      "Child thread: 3\n",
      "Child thread: 4\n",
      "Child thread: 5\n",
      "zzzk\n",
      "k\n",
      "Child thread: 6\n",
      "Main thread: 1\n",
      "Child thread: 7\n",
      "zzzk\n",
      "k\n",
      "Child thread: 8\n",
      "Main thread: 2\n",
      "Child thread: 9\n",
      "zzzk\n",
      "k\n",
      "Child thread: 10\n",
      "Done.\n",
      "Child thread: 11\n",
      "Child thread: 12\n",
      "Child thread: 13\n",
      "Child thread: 14\n",
      "Child thread: 15\n",
      "Child thread: 16\n",
      "Child thread: 17\n",
      "Child thread: 18\n",
      "Child thread: 19\n",
      "Child thread: 20\n"
     ]
    }
   ],
   "source": [
    "# import threading\n",
    "# import time\n",
    "\n",
    "# # 子執行緒的工作函數\n",
    "# def job():\n",
    "#     for i in range(5):\n",
    "#         print(\"Child thread:\", i)\n",
    "#         time.sleep(1)\n",
    "\n",
    "# # 建立一個子執行緒\n",
    "# t = threading.Thread(target = job)\n",
    "\n",
    "# # 執行該子執行緒\n",
    "# t.start()\n",
    "\n",
    "# # 主執行緒繼續執行自己的工作\n",
    "# for i in range(3):\n",
    "#     print(\"Main thread:\", i)\n",
    "#     a = input(\"zzz\")\n",
    "#     print(a)\n",
    "#     time.sleep(1)\n",
    "\n",
    "# # 等待 t 這個子執行緒結束\n",
    "# t.join()\n",
    "\n",
    "# print(\"Done.\")"
   ]
  },
  {
   "cell_type": "code",
   "execution_count": null,
   "metadata": {},
   "outputs": [],
   "source": []
  }
 ],
 "metadata": {
  "kernelspec": {
   "display_name": "Python 3",
   "language": "python",
   "name": "python3"
  },
  "language_info": {
   "codemirror_mode": {
    "name": "ipython",
    "version": 3
   },
   "file_extension": ".py",
   "mimetype": "text/x-python",
   "name": "python",
   "nbconvert_exporter": "python",
   "pygments_lexer": "ipython3",
   "version": "3.6.7"
  }
 },
 "nbformat": 4,
 "nbformat_minor": 2
}
