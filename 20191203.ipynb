{
 "cells": [
  {
   "cell_type": "markdown",
   "metadata": {},
   "source": [
    "# while迴圈"
   ]
  },
  {
   "cell_type": "code",
   "execution_count": 1,
   "metadata": {},
   "outputs": [
    {
     "name": "stdout",
     "output_type": "stream",
     "text": [
      "輸入q後按Enter結束程式a\n",
      "輸入q後按Enter結束程式b\n",
      "輸入q後按Enter結束程式c\n",
      "輸入q後按Enter結束程式q\n"
     ]
    }
   ],
   "source": [
    "switch = True\n",
    "while switch:\n",
    "    if str.lower(input(\"輸入q後按Enter結束程式\")) == 'q': \n",
    "        switch = False"
   ]
  },
  {
   "cell_type": "code",
   "execution_count": 2,
   "metadata": {},
   "outputs": [
    {
     "name": "stdout",
     "output_type": "stream",
     "text": [
      "輸入q後按Enter結束程式a\n",
      "輸入q後按Enter結束程式b\n",
      "輸入q後按Enter結束程式c\n",
      "輸入q後按Enter結束程式q\n"
     ]
    }
   ],
   "source": [
    "switch = True\n",
    "while switch:\n",
    "    if str.lower(input(\"輸入q後按Enter結束程式\")) == 'q': switch = False"
   ]
  },
  {
   "cell_type": "code",
   "execution_count": 1,
   "metadata": {},
   "outputs": [],
   "source": [
    "# !pip install opencv-python"
   ]
  },
  {
   "cell_type": "code",
   "execution_count": 3,
   "metadata": {},
   "outputs": [],
   "source": [
    "import cv2\n",
    "\n",
    "cap = cv2.VideoCapture(0)#開啟相機\n",
    "\n",
    "while(True):\n",
    "    ret,frame = cap.read()#捕獲一幀影象\n",
    "    frame = cv2.flip(frame,1,dst=None) \n",
    "    cv2.imshow('frame',frame)\n",
    "    #判斷按鍵，如果按鍵為q，退出迴圈\n",
    "    if cv2.waitKey(1) & 0xFF == ord('q'):\n",
    "        break\n",
    "\n",
    "cap.release()#關閉相機\n",
    "cv2.destroyAllWindows()#關閉視窗"
   ]
  },
  {
   "cell_type": "markdown",
   "metadata": {},
   "source": [
    "# 函數"
   ]
  },
  {
   "cell_type": "code",
   "execution_count": 2,
   "metadata": {},
   "outputs": [],
   "source": [
    "def question_answer(question=None, answer=None):\n",
    "    print(question, \"答案為\", answer)"
   ]
  },
  {
   "cell_type": "code",
   "execution_count": 3,
   "metadata": {},
   "outputs": [
    {
     "name": "stdout",
     "output_type": "stream",
     "text": [
      "1+1 答案為 2\n"
     ]
    }
   ],
   "source": [
    "question_answer(question=\"1+1\", answer=\"2\")"
   ]
  },
  {
   "cell_type": "code",
   "execution_count": 4,
   "metadata": {},
   "outputs": [
    {
     "name": "stdout",
     "output_type": "stream",
     "text": [
      "1+1 答案為 2\n"
     ]
    }
   ],
   "source": [
    "question_answer(\"1+1\", \"2\")"
   ]
  },
  {
   "cell_type": "code",
   "execution_count": 8,
   "metadata": {},
   "outputs": [],
   "source": [
    "def question_answer_error(question=None, answer=None, *other):\n",
    "    print(question, \"答案為\", answer)\n",
    "    for i in other:\n",
    "        print(\"其他錯誤答案為\", i)"
   ]
  },
  {
   "cell_type": "code",
   "execution_count": 13,
   "metadata": {},
   "outputs": [
    {
     "name": "stdout",
     "output_type": "stream",
     "text": [
      "1+1 答案為 2\n"
     ]
    }
   ],
   "source": [
    "question_answer_error(question=\"1+1\", answer=\"2\")"
   ]
  },
  {
   "cell_type": "code",
   "execution_count": 10,
   "metadata": {},
   "outputs": [
    {
     "name": "stdout",
     "output_type": "stream",
     "text": [
      "1+1 答案為 2\n",
      "其他錯誤答案為 3\n",
      "其他錯誤答案為 4\n",
      "其他錯誤答案為 5\n"
     ]
    }
   ],
   "source": [
    "question_answer_error(\"1+1\", \"2\", \"3\", \"4\", \"5\")"
   ]
  },
  {
   "cell_type": "code",
   "execution_count": 24,
   "metadata": {},
   "outputs": [
    {
     "data": {
      "text/plain": [
       "['主人下馬客在船', '唯見江心秋月白']"
      ]
     },
     "execution_count": 24,
     "metadata": {},
     "output_type": "execute_result"
    }
   ],
   "source": [
    "question = \"「潯陽江頭夜送客」下一句？\"\n",
    "answer = \"楓葉荻花秋瑟瑟\"\n",
    "other =  \"主人下馬客在船\", \"唯見江心秋月白\"\n",
    "\n",
    "import random\n",
    "\n",
    "choose = ['A', 'B', 'C', 'D', 'E', 'F', 'G']\n",
    "answers = [i for i in other]\n",
    "answers"
   ]
  },
  {
   "cell_type": "code",
   "execution_count": 25,
   "metadata": {},
   "outputs": [
    {
     "data": {
      "text/plain": [
       "['主人下馬客在船', '楓葉荻花秋瑟瑟', '唯見江心秋月白']"
      ]
     },
     "execution_count": 25,
     "metadata": {},
     "output_type": "execute_result"
    }
   ],
   "source": [
    "answers.append(answer)\n",
    "random.shuffle(answers)\n",
    "answers"
   ]
  },
  {
   "cell_type": "code",
   "execution_count": 26,
   "metadata": {},
   "outputs": [
    {
     "data": {
      "text/plain": [
       "1"
      ]
     },
     "execution_count": 26,
     "metadata": {},
     "output_type": "execute_result"
    }
   ],
   "source": [
    "answers_choose = answers.index(answer)\n",
    "answers_choose"
   ]
  },
  {
   "cell_type": "code",
   "execution_count": 29,
   "metadata": {},
   "outputs": [
    {
     "name": "stdout",
     "output_type": "stream",
     "text": [
      "「潯陽江頭夜送客」下一句？\n",
      "\t(A)主人下馬客在船\n",
      "\t(B)楓葉荻花秋瑟瑟\n",
      "\t(C)唯見江心秋月白\n",
      "\t\n"
     ]
    }
   ],
   "source": [
    "complete_question = str(question) + '\\n\\t'\n",
    "for i in range(len(answers)):\n",
    "    complete_question += '(' + choose[i] + ')' +answers[i] + '\\n\\t'\n",
    "    \n",
    "print(complete_question)"
   ]
  },
  {
   "cell_type": "code",
   "execution_count": 30,
   "metadata": {},
   "outputs": [
    {
     "data": {
      "text/plain": [
       "'B'"
      ]
     },
     "execution_count": 30,
     "metadata": {},
     "output_type": "execute_result"
    }
   ],
   "source": [
    "choose[answers_choose]"
   ]
  },
  {
   "cell_type": "code",
   "execution_count": 14,
   "metadata": {},
   "outputs": [],
   "source": [
    "def random_items(question=None, answer=None, *other):\n",
    "    \"\"\"question輸入題目\n",
    "    answer輸入答案\n",
    "    *other輸入其他選項\n",
    "    回傳完整題目與正確選項\n",
    "    \"\"\"\n",
    "    import random\n",
    "    \n",
    "    choose = ['A', 'B', 'C', 'D', 'E', 'F', 'G']\n",
    "    answers = [i for i in other]\n",
    "    answers.append(answer)\n",
    "    random.shuffle(answers)\n",
    "    answers_choose = answers.index(answer)\n",
    "    complete_question = str(question) + '\\n\\t'\n",
    "    for i in range(len(answers)):\n",
    "        complete_question += '(' + choose[i] + ')' +answers[i] + '\\n\\t'\n",
    "    return complete_question, choose[answers_choose]"
   ]
  },
  {
   "cell_type": "code",
   "execution_count": 23,
   "metadata": {},
   "outputs": [
    {
     "name": "stdout",
     "output_type": "stream",
     "text": [
      "「潯陽江頭夜送客」下一句？\n",
      "\t(A)楓葉荻花秋瑟瑟\n",
      "\t(B)唯見江心秋月白\n",
      "\t(C)主人下馬客在船\n",
      "\t A\n"
     ]
    }
   ],
   "source": [
    "k, v = random_items(\"「潯陽江頭夜送客」下一句？\", \"楓葉荻花秋瑟瑟\", \"主人下馬客在船\", \"唯見江心秋月白\")\n",
    "print(k, v)"
   ]
  },
  {
   "cell_type": "code",
   "execution_count": null,
   "metadata": {},
   "outputs": [],
   "source": []
  }
 ],
 "metadata": {
  "kernelspec": {
   "display_name": "Python 3",
   "language": "python",
   "name": "python3"
  },
  "language_info": {
   "codemirror_mode": {
    "name": "ipython",
    "version": 3
   },
   "file_extension": ".py",
   "mimetype": "text/x-python",
   "name": "python",
   "nbconvert_exporter": "python",
   "pygments_lexer": "ipython3",
   "version": "3.6.7"
  }
 },
 "nbformat": 4,
 "nbformat_minor": 2
}
