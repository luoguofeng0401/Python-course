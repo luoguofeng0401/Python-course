{
 "cells": [
  {
   "cell_type": "code",
   "execution_count": 2,
   "metadata": {},
   "outputs": [],
   "source": [
    "from sympy import *"
   ]
  },
  {
   "cell_type": "markdown",
   "metadata": {},
   "source": [
    "## 一元一次方程式\n",
    "\n",
    "$ 9x - 6 = 0 $"
   ]
  },
  {
   "cell_type": "code",
   "execution_count": 2,
   "metadata": {},
   "outputs": [
    {
     "data": {
      "text/plain": [
       "{x: 2/3}"
      ]
     },
     "execution_count": 2,
     "metadata": {},
     "output_type": "execute_result"
    }
   ],
   "source": [
    "x = Symbol('x')\n",
    "\n",
    "f1 = 9 * x - 6\n",
    "\n",
    "solve([f1], [x])"
   ]
  },
  {
   "cell_type": "markdown",
   "metadata": {},
   "source": [
    "## 一元二次方程式\n",
    "\n",
    "$ x^2 - 9 = 0 $"
   ]
  },
  {
   "cell_type": "code",
   "execution_count": 4,
   "metadata": {},
   "outputs": [
    {
     "data": {
      "text/plain": [
       "[(-3,), (3,)]"
      ]
     },
     "execution_count": 4,
     "metadata": {},
     "output_type": "execute_result"
    }
   ],
   "source": [
    "x = Symbol('x')\n",
    "\n",
    "f1 = x**2 - 9\n",
    "\n",
    "solve([f1], [x])"
   ]
  },
  {
   "cell_type": "markdown",
   "metadata": {},
   "source": [
    "## 一元三次方程式\n",
    "\n",
    "$ x^3 -3x^2 +3x - 1 = 0 $"
   ]
  },
  {
   "cell_type": "code",
   "execution_count": 3,
   "metadata": {},
   "outputs": [
    {
     "data": {
      "text/plain": [
       "[(1,)]"
      ]
     },
     "execution_count": 3,
     "metadata": {},
     "output_type": "execute_result"
    }
   ],
   "source": [
    "x = Symbol('x')\n",
    "\n",
    "f1 = x**3 - 3*x**2 + 3*x -1\n",
    "\n",
    "solve([f1], [x])"
   ]
  },
  {
   "cell_type": "markdown",
   "metadata": {},
   "source": [
    "## 二元一次聯立方程式\n",
    "\n",
    "$ 2x - y - 3 = 0 $\n",
    "\n",
    "$ 3x + y - 7 = 0 $"
   ]
  },
  {
   "cell_type": "code",
   "execution_count": 3,
   "metadata": {},
   "outputs": [
    {
     "data": {
      "text/plain": [
       "{x: 2, y: 1}"
      ]
     },
     "execution_count": 3,
     "metadata": {},
     "output_type": "execute_result"
    }
   ],
   "source": [
    "x, y = symbols('x, y')\n",
    "\n",
    "f1 = 2 * x - y - 3\n",
    "f2 = 3 * x + y - 7\n",
    "\n",
    "solve([f1, f2], [x, y])"
   ]
  },
  {
   "cell_type": "markdown",
   "metadata": {},
   "source": [
    "## 二元一次聯立方程式\n",
    "\n",
    "$ 3y + 5y - 19 = 0 $\n",
    "\n",
    "$ 4x - 3y - 6 = 0 $"
   ]
  },
  {
   "cell_type": "code",
   "execution_count": 4,
   "metadata": {},
   "outputs": [
    {
     "data": {
      "text/plain": [
       "{x: 105/32, y: 19/8}"
      ]
     },
     "execution_count": 4,
     "metadata": {},
     "output_type": "execute_result"
    }
   ],
   "source": [
    "x, y, z = symbols('x, y, z')\n",
    "\n",
    "f1 = 3 * y + 5 * y - 19\n",
    "f2 = 4 * x - 3 * y - 6\n",
    "\n",
    "solve([f1, f2], [x, y])"
   ]
  },
  {
   "cell_type": "code",
   "execution_count": 5,
   "metadata": {},
   "outputs": [],
   "source": [
    "# solve([3 * y + 5 * y - 19, 4 * x - 3 * y - 6], [x, y])"
   ]
  },
  {
   "cell_type": "markdown",
   "metadata": {},
   "source": [
    "## 三元一次聯立方程式\n",
    "\n",
    "$ 4x + 3y + 3z - 350 = 0 $\n",
    "\n",
    "$ 4x + 2y + 5z - 360 = 0 $\n",
    "\n",
    "$ 8x + 8y + 10z - 840 = 0 $"
   ]
  },
  {
   "cell_type": "code",
   "execution_count": 10,
   "metadata": {},
   "outputs": [
    {
     "data": {
      "text/plain": [
       "{x: 50, y: 30, z: 20}"
      ]
     },
     "execution_count": 10,
     "metadata": {},
     "output_type": "execute_result"
    }
   ],
   "source": [
    "x, y, z = symbols('x, y, z')\n",
    "\n",
    "f1 = 4*x + 3*y + 3*z - 350\n",
    "f2 = 4*x + 2*y + 5*z - 360\n",
    "f3 = 8*x + 8*y + 10*z - 840\n",
    "\n",
    "solve([f1, f2, f3], [x, y, z])"
   ]
  },
  {
   "cell_type": "markdown",
   "metadata": {},
   "source": [
    "## 二元二次聯立方程式\n",
    "\n",
    "$ x^2 - 9 = 0 $\n",
    "\n",
    "$ y^2 - 9 = 0 $"
   ]
  },
  {
   "cell_type": "code",
   "execution_count": 7,
   "metadata": {},
   "outputs": [
    {
     "data": {
      "text/plain": [
       "[(-3, -3), (-3, 3), (3, -3), (3, 3)]"
      ]
     },
     "execution_count": 7,
     "metadata": {},
     "output_type": "execute_result"
    }
   ],
   "source": [
    "x, y = symbols('x, y')\n",
    "\n",
    "f1 = x**2 - 9\n",
    "f2 = y**2 - 9\n",
    "\n",
    "solve([f1, f2], [x, y])"
   ]
  },
  {
   "cell_type": "markdown",
   "metadata": {},
   "source": [
    "## 三元二次聯立方程式\n",
    "\n",
    "$ x^2 - 9 = 0 $\n",
    "\n",
    "$ y^2 - 9 = 0 $\n",
    "\n",
    "$ z^2 - 9 = 0 $"
   ]
  },
  {
   "cell_type": "code",
   "execution_count": 9,
   "metadata": {},
   "outputs": [
    {
     "data": {
      "text/plain": [
       "[(-3, -3, -3),\n",
       " (-3, -3, 3),\n",
       " (-3, 3, -3),\n",
       " (-3, 3, 3),\n",
       " (3, -3, -3),\n",
       " (3, -3, 3),\n",
       " (3, 3, -3),\n",
       " (3, 3, 3)]"
      ]
     },
     "execution_count": 9,
     "metadata": {},
     "output_type": "execute_result"
    }
   ],
   "source": [
    "x, y, z = symbols('x, y, z')\n",
    "\n",
    "f1 = x**2 - 9\n",
    "f2 = y**2 - 9\n",
    "f3 = z**2 - 9\n",
    "\n",
    "solve([f1, f2, f3], [x, y, z])"
   ]
  },
  {
   "cell_type": "code",
   "execution_count": null,
   "metadata": {},
   "outputs": [],
   "source": []
  }
 ],
 "metadata": {
  "kernelspec": {
   "display_name": "Python 3",
   "language": "python",
   "name": "python3"
  },
  "language_info": {
   "codemirror_mode": {
    "name": "ipython",
    "version": 3
   },
   "file_extension": ".py",
   "mimetype": "text/x-python",
   "name": "python",
   "nbconvert_exporter": "python",
   "pygments_lexer": "ipython3",
   "version": "3.6.7"
  }
 },
 "nbformat": 4,
 "nbformat_minor": 2
}
